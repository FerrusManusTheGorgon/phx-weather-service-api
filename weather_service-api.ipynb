{
 "cells": [
  {
   "cell_type": "code",
   "execution_count": 330,
   "id": "6b7cd9fb-1425-470f-9b56-61699e68a62a",
   "metadata": {},
   "outputs": [],
   "source": [
    "from IPython.display import Image\n",
    "import requests\n",
    "import pandas as pd\n",
    "import openmeteo_requests\n",
    "import requests_cache\n",
    "from retry_requests import retry\n",
    "from sqlalchemy import create_engine, text\n",
    "from datetime import datetime, timedelta"
   ]
  },
  {
   "cell_type": "code",
   "execution_count": 331,
   "id": "46baef98-48fc-42f2-a87d-16282c2f7cc1",
   "metadata": {},
   "outputs": [],
   "source": [
    "def get_password_from_csv(filepath, key_type):\n",
    "    df = pd.read_csv('/home/alfred/Documents/projects/api_keys - Sheet1.csv')\n",
    "    password = df.loc[df['type'] == key_type, 'keys'].values[0]\n",
    "    return password\n",
    "\n",
    "# Get the password from the CSV file\n",
    "password = get_password_from_csv('/path/to/keys.csv', 'database')\n",
    "\n",
    "# Construct the database connection string\n",
    "username = 'postgres'\n",
    "host = 'localhost'\n",
    "port = '5432'\n",
    "database = 'postgres'\n",
    "connection_string = f'postgresql+psycopg2://{username}:{password}@{host}/{database}'\n",
    "engine = create_engine(connection_string)"
   ]
  },
  {
   "cell_type": "code",
   "execution_count": 332,
   "id": "563ee5e0-3ab0-454f-a301-3196de8912d1",
   "metadata": {},
   "outputs": [
    {
     "name": "stdout",
     "output_type": "stream",
     "text": [
      "Fetching data up to 2024-06-09\n"
     ]
    }
   ],
   "source": [
    "# Get yesterday's date\n",
    "last_week = (datetime.today() - timedelta(days=7)).strftime('%Y-%m-%d')\n",
    "\n",
    "# Use yesterday's date in your logic\n",
    "print(f\"Fetching data up to {last_week}\")\n"
   ]
  },
  {
   "cell_type": "code",
   "execution_count": 333,
   "id": "766f2f91-81c9-44a5-a034-812fa54297c6",
   "metadata": {},
   "outputs": [],
   "source": [
    "# Setup the Open-Meteo API client with cache and retry on error\n",
    "cache_session = requests_cache.CachedSession('.cache', expire_after = -1)\n",
    "retry_session = retry(cache_session, retries = 5, backoff_factor = 0.2)\n",
    "openmeteo = openmeteo_requests.Client(session = retry_session)"
   ]
  },
  {
   "cell_type": "code",
   "execution_count": 334,
   "id": "9b817c6b-60ca-403d-a22c-7c24ae9ba69f",
   "metadata": {},
   "outputs": [],
   "source": [
    "url = \"https://archive-api.open-meteo.com/v1/archive\"\n",
    "params = {\n",
    "\t\"latitude\": 33.44,\n",
    "\t\"longitude\": 112.07,\n",
    "\t\"start_date\": \"2024-01-01\",\n",
    "\t \"end_date\": last_week,\n",
    "\t\"hourly\": [\"temperature_2m\", \"rain\", \"weather_code\", \"cloud_cover\", \"is_day\"],\n",
    "\t\"temperature_unit\": \"fahrenheit\"\n",
    "}"
   ]
  },
  {
   "cell_type": "code",
   "execution_count": 335,
   "id": "44aa2925-aead-4b84-83fd-912a36cb5465",
   "metadata": {},
   "outputs": [],
   "source": [
    "responses = openmeteo.weather_api(url, params=params)"
   ]
  },
  {
   "cell_type": "code",
   "execution_count": 336,
   "id": "b0845941-5c71-472f-a2fd-049ff28c6eb1",
   "metadata": {},
   "outputs": [
    {
     "name": "stdout",
     "output_type": "stream",
     "text": [
      "Coordinates 33.42706298828125°N 112.0271987915039°W\n",
      "Elevation 1131.0 m asl\n",
      "Timezone None None\n",
      "Timezone difference to GMT+0 0 s\n"
     ]
    }
   ],
   "source": [
    "# Process first location. Add a for-loop for multiple locations or weather models\n",
    "response = responses[0]\n",
    "print(f\"Coordinates {response.Latitude()}°N {response.Longitude()}°W\")\n",
    "print(f\"Elevation {response.Elevation()} m asl\")\n",
    "print(f\"Timezone {response.Timezone()} {response.TimezoneAbbreviation()}\")\n",
    "print(f\"Timezone difference to GMT+0 {response.UtcOffsetSeconds()} s\")"
   ]
  },
  {
   "cell_type": "code",
   "execution_count": 337,
   "id": "f9a0eeee-971a-4d73-a1e2-63afedd89f18",
   "metadata": {},
   "outputs": [
    {
     "name": "stdout",
     "output_type": "stream",
     "text": [
      "                          date  temperature_2m  rain  weather_code  \\\n",
      "0    2024-01-01 00:00:00+00:00       23.371700   0.0           0.0   \n",
      "1    2024-01-01 01:00:00+00:00       27.871700   0.0           0.0   \n",
      "2    2024-01-01 02:00:00+00:00       31.381701   0.0           0.0   \n",
      "3    2024-01-01 03:00:00+00:00       33.901699   0.0           0.0   \n",
      "4    2024-01-01 04:00:00+00:00       35.611702   0.0           0.0   \n",
      "...                        ...             ...   ...           ...   \n",
      "3859 2024-06-09 19:00:00+00:00       62.431698   0.0           0.0   \n",
      "3860 2024-06-09 20:00:00+00:00       61.441700   0.0           0.0   \n",
      "3861 2024-06-09 21:00:00+00:00       60.721699   0.0           0.0   \n",
      "3862 2024-06-09 22:00:00+00:00       61.441700   0.0           0.0   \n",
      "3863 2024-06-09 23:00:00+00:00       65.581696   0.0           0.0   \n",
      "\n",
      "      cloud_cover  is_day  \n",
      "0        0.000000     1.0  \n",
      "1        0.000000     1.0  \n",
      "2        1.500000     1.0  \n",
      "3       10.200000     1.0  \n",
      "4        4.500000     1.0  \n",
      "...           ...     ...  \n",
      "3859     0.000000     0.0  \n",
      "3860     1.200000     0.0  \n",
      "3861     7.800000     0.0  \n",
      "3862     1.500000     1.0  \n",
      "3863    19.200001     1.0  \n",
      "\n",
      "[3864 rows x 6 columns]\n"
     ]
    }
   ],
   "source": [
    "# Process hourly data. The order of variables needs to be the same as requested.\n",
    "hourly = response.Hourly()\n",
    "hourly_temperature_2m = hourly.Variables(0).ValuesAsNumpy()\n",
    "hourly_rain = hourly.Variables(1).ValuesAsNumpy()\n",
    "hourly_weather_code = hourly.Variables(2).ValuesAsNumpy()\n",
    "hourly_cloud_cover = hourly.Variables(3).ValuesAsNumpy()\n",
    "hourly_is_day = hourly.Variables(4).ValuesAsNumpy()\n",
    "\n",
    "hourly_data = {\"date\": pd.date_range(\n",
    "\tstart = pd.to_datetime(hourly.Time(), unit = \"s\", utc = True),\n",
    "\tend = pd.to_datetime(hourly.TimeEnd(), unit = \"s\", utc = True),\n",
    "\tfreq = pd.Timedelta(seconds = hourly.Interval()),\n",
    "\tinclusive = \"left\"\n",
    ")}\n",
    "hourly_data[\"temperature_2m\"] = hourly_temperature_2m\n",
    "hourly_data[\"rain\"] = hourly_rain\n",
    "hourly_data[\"weather_code\"] = hourly_weather_code\n",
    "hourly_data[\"cloud_cover\"] = hourly_cloud_cover\n",
    "hourly_data[\"is_day\"] = hourly_is_day\n",
    "\n",
    "hourly_dataframe = pd.DataFrame(data = hourly_data)\n",
    "print(hourly_dataframe)"
   ]
  },
  {
   "cell_type": "code",
   "execution_count": 338,
   "id": "e42595b7-2299-491b-8f88-6e94630d44b0",
   "metadata": {},
   "outputs": [
    {
     "name": "stdout",
     "output_type": "stream",
     "text": [
      "                       date  temperature_2m  rain  weather_code  cloud_cover  \\\n",
      "0 2024-01-01 00:00:00+00:00       23.371700   0.0           0.0          0.0   \n",
      "1 2024-01-01 01:00:00+00:00       27.871700   0.0           0.0          0.0   \n",
      "2 2024-01-01 02:00:00+00:00       31.381701   0.0           0.0          1.5   \n",
      "3 2024-01-01 03:00:00+00:00       33.901699   0.0           0.0         10.2   \n",
      "4 2024-01-01 04:00:00+00:00       35.611702   0.0           0.0          4.5   \n",
      "\n",
      "   is_day  \n",
      "0     1.0  \n",
      "1     1.0  \n",
      "2     1.0  \n",
      "3     1.0  \n",
      "4     1.0  \n"
     ]
    }
   ],
   "source": [
    "print(hourly_dataframe.head())"
   ]
  },
  {
   "cell_type": "code",
   "execution_count": 339,
   "id": "71c6b785-2113-426d-a859-5c6a9e146e0e",
   "metadata": {},
   "outputs": [],
   "source": [
    "def fetch_data_with_sql_query(sql_query):\n",
    "    \"\"\"\n",
    "    Fetch data from the specified API using an SQL query.\n",
    "\n",
    "    :param sql_query: The SQL query to execute.\n",
    "    :return: A list of records fetched from the API.\n",
    "    \"\"\"\n",
    "    # URL for the API\n",
    "    base_url = \"https://www.phoenixopendata.com/api/3/action/datastore_search_sql\"\n",
    "    \n",
    "    print(f\"SQL Query: {sql_query}\")  # Debug: Print the SQL query\n",
    "    \n",
    "    # Parameters for the API call\n",
    "    params = {\n",
    "        \"sql\": sql_query\n",
    "    }\n",
    "    \n",
    "    # Make the API request\n",
    "    response = requests.get(base_url, params=params)\n",
    "    \n",
    "    # Check if the request was successful\n",
    "    if response.status_code == 200:\n",
    "        data = response.json()\n",
    "        print(f\"API Response Content: {response.content[:1000]}\")  # Debug: Print the first 1000 bytes of the API response content\n",
    "        if 'result' in data and 'records' in data['result']:\n",
    "            records = data['result']['records']\n",
    "            return records\n",
    "        else:\n",
    "            print(\"Unexpected JSON structure.\")\n",
    "            return []\n",
    "    else:\n",
    "        print(f\"Failed to fetch data: {response.status_code}\")\n",
    "        return []"
   ]
  },
  {
   "cell_type": "code",
   "execution_count": 340,
   "id": "d77a5631-66a3-4ebe-9b89-f4f784f59165",
   "metadata": {},
   "outputs": [
    {
     "name": "stdout",
     "output_type": "stream",
     "text": [
      "\n",
      "    SELECT * FROM \"e8417a83-fcad-4cad-803c-423de3ad2d92\"\n",
      "    WHERE to_date(\"CALL_RECEIVED\", 'MM/DD/YYYY HH12:MI:SSAM') >= '2023-01-01'\n",
      "    AND to_date(\"CALL_RECEIVED\", 'MM/DD/YYYY HH12:MI:SSAM') <= '2024-06-09'\n",
      "\n"
     ]
    }
   ],
   "source": [
    "# Resource ID for Phoenix police data\n",
    "phx_police_resource_id = \"e8417a83-fcad-4cad-803c-423de3ad2d92\"\n",
    "start_date = \"2023-01-01\"\n",
    "\n",
    "# Get the date a week ago\n",
    "end_date = (datetime.today() - timedelta(days=7)).strftime('%Y-%m-%d')\n",
    "\n",
    "# SQL query to fetch data from the specified date range\n",
    "sql_query_phx_police = f'''\n",
    "    SELECT * FROM \"{phx_police_resource_id}\"\n",
    "    WHERE to_date(\"CALL_RECEIVED\", 'MM/DD/YYYY HH12:MI:SSAM') >= '{start_date}'\n",
    "    AND to_date(\"CALL_RECEIVED\", 'MM/DD/YYYY HH12:MI:SSAM') <= '{end_date}'\n",
    "'''\n",
    "\n",
    "# Print the generated SQL query to verify\n",
    "print(sql_query_phx_police)\n"
   ]
  },
  {
   "cell_type": "code",
   "execution_count": 341,
   "id": "49e9e648-765e-4904-bf17-f4d83a922955",
   "metadata": {},
   "outputs": [
    {
     "name": "stdout",
     "output_type": "stream",
     "text": [
      "   _id                                         _full_text  INCIDENT_NUM  \\\n",
      "0    1  '00':9 '1/1/2024':7 '12':8 '202400000001':1 '2...  202400000001   \n",
      "1    2  '00':12 '1/1/2024':10 '12':11 '202400000013':1...  202400000013   \n",
      "2    3  '00':8 '1/1/2024':6 '12':7 '19th':12 '20240000...  202400000011   \n",
      "3    4  '01':9 '01am':10 '1/1/2024':7 '12':8 '20240000...  202400000015   \n",
      "4    5  '01':11 '1/1/2024':9 '12':10 '202400000012':1 ...  202400000012   \n",
      "5    6  '02':11 '04am':12 '1/1/2024':9 '12':10 '202400...  202400000022   \n",
      "6    7  '02':11 '1/1/2024':9 '12':10 '15am':12 '202400...  202400000024   \n",
      "7    8  '02':9 '1/1/2024':7 '12':8 '202400000032':1 '3...  202400000032   \n",
      "8    9  '03':10 '1/1/2024':8 '10am':11 '12':9 '2024000...  202400000023   \n",
      "9   10  '03am':12 '04':11 '1/1/2024':9 '12':10 '202400...  202400000035   \n",
      "\n",
      "  DISP_CODE          DISPOSITION FINAL_RADIO_CODE       FINAL_CALL_TYPE  \\\n",
      "0         R  DEPARTMENTAL REPORT              239                 FIGHT   \n",
      "1         N   NO ACTION REQUIRED             488V   RECOVERY OF VEHICLE   \n",
      "2         I          INTERACTION              240               ASSAULT   \n",
      "3         I          INTERACTION             459R  BURGLARY RESIDENTIAL   \n",
      "4         N   NO ACTION REQUIRED             415G           SHOTS FIRED   \n",
      "5         N   NO ACTION REQUIRED              900         CHECK WELFARE   \n",
      "6         N   NO ACTION REQUIRED              647     SUSPICIOUS PERSON   \n",
      "7         I          INTERACTION             459R  BURGLARY RESIDENTIAL   \n",
      "8         R  DEPARTMENTAL REPORT             415B       CRIMINAL DAMAGE   \n",
      "9         N   NO ACTION REQUIRED             415G           SHOTS FIRED   \n",
      "\n",
      "          CALL_RECEIVED       HUNDREDBLOCKADDR   GRID  \n",
      "0  1/1/2024  12:00:26AM      XX W JEFFERSON ST   BA27  \n",
      "1  1/1/2024  12:00:37AM     45XX E MCDOWELL RD   BD38  \n",
      "2  1/1/2024  12:00:41AM        89XX N 19TH AVE   CG24  \n",
      "3  1/1/2024  12:01:01AM   21XX E MARCO POLO RD   EA32  \n",
      "4  1/1/2024  12:01:43AM     34XX E MCDOWELL RD   BD35  \n",
      "5  1/1/2024  12:02:04AM  26XX W UNION HILLS DR  DI23B  \n",
      "6  1/1/2024  12:02:15AM     49XX E PRESIDIO RD   DC39  \n",
      "7  1/1/2024  12:02:53AM   33XX E BLOOMFIELD RD  DB35B  \n",
      "8  1/1/2024  12:03:10AM          48XX S 4TH PL   AE28  \n",
      "9  1/1/2024  12:04:03AM         45XX E WOOD ST  AF38B  \n"
     ]
    }
   ],
   "source": [
    "# Convert the data to a DataFrame\n",
    "if phx_police_data:\n",
    "    df_phx_police = pd.DataFrame(phx_police_data)\n",
    "    print(df_phx_police.head(10))  # Display the first 10 rows\n",
    "else:\n",
    "    print(\"No data fetched.\")"
   ]
  },
  {
   "cell_type": "code",
   "execution_count": 342,
   "id": "eaed64ff-7b9a-4b52-af70-a20895382b96",
   "metadata": {},
   "outputs": [
    {
     "name": "stdout",
     "output_type": "stream",
     "text": [
      "\n",
      "    SELECT * FROM \"e832854c-6537-4223-ba26-674a7b799f49\"\n",
      "    WHERE \"REPORTED\" >= '2023-01-01T00:00:00'\n",
      "    AND \"REPORTED\" <= '2024-06-09T23:59:59'\n",
      "\n",
      "SQL Query: \n",
      "    SELECT * FROM \"e832854c-6537-4223-ba26-674a7b799f49\"\n",
      "    WHERE \"REPORTED\" >= '2023-01-01T00:00:00'\n",
      "    AND \"REPORTED\" <= '2024-06-09T23:59:59'\n",
      "\n",
      "API Response Content: b'{\"help\": \"https://www.phoenixopendata.com/api/3/action/help_show?name=datastore_search_sql\", \"success\": true, \"result\": {\"sql\": \"\\\\n    SELECT * FROM \\\\\"e832854c-6537-4223-ba26-674a7b799f49\\\\\"\\\\n    WHERE \\\\\"REPORTED\\\\\" >= \\'2023-01-01T00:00:00\\'\\\\n    AND \\\\\"REPORTED\\\\\" <= \\'2024-06-09T23:59:59\\'\\\\n\", \"records_truncated\": true, \"records\": [{\"_id\": 1, \"_full_text\": \"\\'-01\\':3,4,9,10 \\'00\\':6 \\'05\\':13 \\'15\\':12 \\'198xx\\':14 \\'2023\\':2,8 \\'23000002\\':1 \\'42\\':7 \\'8th\\':16 \\'check\\':19 \\'ckfout\\':18 \\'fire\\':20,23 \\'n\\':15 \\'out\\':22 \\'pl\\':17 \\'reported\\':21 \\'t00\\':5,11\", \"INCIDENT\": \"23000002\", \"REPORTED\": \"2023-01-01T00:00:42\", \"CLOSED\": \"2023-01-01T00:15:05\", \"INCIDENT_ADDRESS\": \"198XX N 8TH PL\", \"NATURE_CODE\": \"CKFOUT\", \"NATURE_TEXT\": \"check fire reported out\", \"CATEGORY\": \"FIRE\"}, {\"_id\": 2, \"_full_text\": \"\\'-01\\':3,4,9,10 \\'05\\':6 \\'10\\':7 \\'12\\':12 \\'19th\\':15 \\'2023\\':2,8 \\'23000010\\':1 \\'24\\':13 \\'av/w\\':16 \\'darrel\\':17 \\'fire\\':21,22 \\'rd\\':18 \\'s\\':14 \\'t00\\':5,11 \\'unkf\\':19 \\'unknown\\':20\", \"INCIDENT\": \"23000010\", \"REPORTED\": \"2023-01-01T00:05:10\", \"'\n"
     ]
    }
   ],
   "source": [
    "from datetime import datetime, timedelta\n",
    "\n",
    "# Resource ID for Phoenix fire data\n",
    "phx_fire_resource_id = \"e832854c-6537-4223-ba26-674a7b799f49\"\n",
    "start_date = \"2023-01-01T00:00:00\"\n",
    "\n",
    "# Get the date a week ago\n",
    "end_date = (datetime.today() - timedelta(days=7)).strftime('%Y-%m-%dT23:59:59')\n",
    "\n",
    "# SQL query to fetch data from the specified date range\n",
    "sql_query_phx_fire = f'''\n",
    "    SELECT * FROM \"{phx_fire_resource_id}\"\n",
    "    WHERE \"REPORTED\" >= '{start_date}'\n",
    "    AND \"REPORTED\" <= '{end_date}'\n",
    "'''\n",
    "\n",
    "# Print the generated SQL query to verify\n",
    "print(sql_query_phx_fire)\n",
    "\n",
    "# Fetch data using the SQL query\n",
    "phx_fire_data = fetch_data_with_sql_query(sql_query_phx_fire)\n"
   ]
  },
  {
   "cell_type": "code",
   "execution_count": 343,
   "id": "d5eb61dd-96a1-4784-8fe7-d3bc86d9b5c0",
   "metadata": {},
   "outputs": [
    {
     "name": "stdout",
     "output_type": "stream",
     "text": [
      "fire DataFrame:\n",
      "   _id                                         _full_text  INCIDENT  \\\n",
      "0    1  '-01':3,4,9,10 '00':6 '05':13 '15':12 '198xx':...  23000002   \n",
      "1    2  '-01':3,4,9,10 '05':6 '10':7 '12':12 '19th':15...  23000010   \n",
      "2    3  '-01':3,4,9,10 '05':6 '148xx':14 '2023':2,8 '2...  23000011   \n",
      "3    4  '-01':3,4,9,10 '07':6 '08':7 '2023':2,8 '22':1...  23000014   \n",
      "4    5  '-01':3,4,9,10 '08':6 '10':12 '14':7 '2023':2,...  23000015   \n",
      "\n",
      "              REPORTED               CLOSED         INCIDENT_ADDRESS  \\\n",
      "0  2023-01-01T00:00:42  2023-01-01T00:15:05           198XX N 8TH PL   \n",
      "1  2023-01-01T00:05:10  2023-01-01T00:12:24    S 19TH AV/W DARREL RD   \n",
      "2  2023-01-01T00:05:49  2023-01-01T00:27:30  148XX N BLACK CANYON AC   \n",
      "3  2023-01-01T00:07:08  2023-01-01T00:22:54           41XX N 28TH AV   \n",
      "4  2023-01-01T00:08:14  2023-01-01T01:10:56           32XX N 53RD LN   \n",
      "\n",
      "  NATURE_CODE              NATURE_TEXT CATEGORY  \n",
      "0      CKFOUT  check fire reported out     FIRE  \n",
      "1        UNKF             unknown fire     FIRE  \n",
      "2                                           ALS  \n",
      "3       GRASS               grass fire     FIRE  \n",
      "4                                           ALS  \n",
      "   _id                                         _full_text  INCIDENT  \\\n",
      "0    1  '-01':3,4,9,10 '00':6 '05':13 '15':12 '198xx':...  23000002   \n",
      "1    2  '-01':3,4,9,10 '05':6 '10':7 '12':12 '19th':15...  23000010   \n",
      "2    3  '-01':3,4,9,10 '05':6 '148xx':14 '2023':2,8 '2...  23000011   \n",
      "3    4  '-01':3,4,9,10 '07':6 '08':7 '2023':2,8 '22':1...  23000014   \n",
      "4    5  '-01':3,4,9,10 '08':6 '10':12 '14':7 '2023':2,...  23000015   \n",
      "5    6  '-01':3,4,9,10 '08':6 '2023':2,8 '23000020':1 ...  23000020   \n",
      "6    7  '-01':3,4,9,10 '09':6 '14':13 '19':12 '2023':2...  23000023   \n",
      "7    8  '-01':3,4,9,10 '01':13 '11':6 '11xx':14 '2023'...  23000028   \n",
      "8    9  '-01':3,4,9,10 '12':6 '2023':2,8 '23000033':1 ...  23000033   \n",
      "9   10  '-01':3,4,9,10 '00':12 '13':6 '14xx':14 '19':7...  23000034   \n",
      "\n",
      "              REPORTED               CLOSED              INCIDENT_ADDRESS  \\\n",
      "0  2023-01-01T00:00:42  2023-01-01T00:15:05                198XX N 8TH PL   \n",
      "1  2023-01-01T00:05:10  2023-01-01T00:12:24         S 19TH AV/W DARREL RD   \n",
      "2  2023-01-01T00:05:49  2023-01-01T00:27:30       148XX N BLACK CANYON AC   \n",
      "3  2023-01-01T00:07:08  2023-01-01T00:22:54                41XX N 28TH AV   \n",
      "4  2023-01-01T00:08:14  2023-01-01T01:10:56                32XX N 53RD LN   \n",
      "5  2023-01-01T00:08:59  2023-01-01T00:33:29              69XX W AVALON DR   \n",
      "6  2023-01-01T00:09:30  2023-01-01T00:19:14  N 32ND ST/E INDIAN SCHOOL RD   \n",
      "7  2023-01-01T00:11:24  2023-01-01T00:37:01                11XX W BELL RD   \n",
      "8  2023-01-01T00:12:39  2023-01-01T00:24:31                30XX N 70TH AV   \n",
      "9  2023-01-01T00:13:19  2023-01-01T01:00:33                14XX S 28TH AV   \n",
      "\n",
      "  NATURE_CODE              NATURE_TEXT CATEGORY  \n",
      "0      CKFOUT  check fire reported out     FIRE  \n",
      "1        UNKF             unknown fire     FIRE  \n",
      "2                                           ALS  \n",
      "3       GRASS               grass fire     FIRE  \n",
      "4                                           ALS  \n",
      "5       HOUSE               house fire     FIRE  \n",
      "6                                           BLS  \n",
      "7                                           BLS  \n",
      "8      CKFOUT  check fire reported out     FIRE  \n",
      "9                                           ALS  \n"
     ]
    }
   ],
   "source": [
    "# Convert fire data to DataFrame\n",
    "df_phx_fire = pd.DataFrame(phx_fire_data)\n",
    "print(\"fire DataFrame:\")\n",
    "print(df_phx_fire.head())\n",
    "\n",
    "# Convert the data to a DataFrame\n",
    "if phx_fire_data:\n",
    "    df_phx_fire = pd.DataFrame(phx_fire_data)\n",
    "    print(df_phx_fire.head(10))  # Display the first 10 rows\n",
    "else:\n",
    "    print(\"No data fetched.\")"
   ]
  },
  {
   "cell_type": "code",
   "execution_count": 344,
   "id": "1f470623-7cc4-4aa9-aba0-d67a89509574",
   "metadata": {},
   "outputs": [],
   "source": [
    "hourly_dataframe['date'] = pd.to_datetime(hourly_dataframe['date'], format='%Y-%m-%d %H:%M:%S%z')\n",
    "df_phx_police['CALL_RECEIVED'] = pd.to_datetime(df_phx_police['CALL_RECEIVED'], format='%m/%d/%Y %I:%M:%S%p')\n",
    "df_phx_fire['CLOSED'] = pd.to_datetime(df_phx_fire['CLOSED'], format='%Y-%m-%dT%H:%M:%S')\n",
    "df_phx_fire['REPORTED'] = pd.to_datetime(df_phx_fire['REPORTED'], format='%Y-%m-%dT%H:%M:%S')"
   ]
  },
  {
   "cell_type": "code",
   "execution_count": 345,
   "id": "8309f256-ac37-49a1-9533-c7626f56a7c0",
   "metadata": {},
   "outputs": [],
   "source": [
    "hourly_dataframe['date'] = hourly_dataframe['date'].dt.tz_localize(None)\n",
    "df_phx_police['CALL_RECEIVED'] = df_phx_police['CALL_RECEIVED'].dt.tz_localize(None)\n",
    "df_phx_fire['REPORTED'] = df_phx_fire['REPORTED'].dt.tz_localize(None)\n",
    "df_phx_fire['CLOSED'] = df_phx_fire['CLOSED'].dt.tz_localize(None)"
   ]
  },
  {
   "cell_type": "code",
   "execution_count": 346,
   "id": "a9473d96-832e-4663-a64e-dd1eb8e5c13a",
   "metadata": {},
   "outputs": [
    {
     "name": "stdout",
     "output_type": "stream",
     "text": [
      "0   2024-01-01 00:00:00\n",
      "1   2024-01-01 01:00:00\n",
      "2   2024-01-01 02:00:00\n",
      "3   2024-01-01 03:00:00\n",
      "4   2024-01-01 04:00:00\n",
      "Name: date, dtype: datetime64[ns]\n",
      "0   2024-01-01 00:00:26\n",
      "1   2024-01-01 00:00:37\n",
      "2   2024-01-01 00:00:41\n",
      "3   2024-01-01 00:01:01\n",
      "4   2024-01-01 00:01:43\n",
      "Name: CALL_RECEIVED, dtype: datetime64[ns]\n",
      "0   2023-01-01 00:00:42\n",
      "1   2023-01-01 00:05:10\n",
      "2   2023-01-01 00:05:49\n",
      "3   2023-01-01 00:07:08\n",
      "4   2023-01-01 00:08:14\n",
      "Name: REPORTED, dtype: datetime64[ns]\n",
      "0   2023-01-01 00:15:05\n",
      "1   2023-01-01 00:12:24\n",
      "2   2023-01-01 00:27:30\n",
      "3   2023-01-01 00:22:54\n",
      "4   2023-01-01 01:10:56\n",
      "Name: CLOSED, dtype: datetime64[ns]\n"
     ]
    }
   ],
   "source": [
    "print(hourly_dataframe['date'].head())\n",
    "print(df_phx_police['CALL_RECEIVED'].head())\n",
    "print(df_phx_fire['REPORTED'].head())\n",
    "print(df_phx_fire['CLOSED'].head())"
   ]
  },
  {
   "cell_type": "code",
   "execution_count": 347,
   "id": "6890ad74-27fe-478d-8bb4-31e241e0414c",
   "metadata": {},
   "outputs": [],
   "source": [
    "# Rename the column in the DataFrame\n",
    "hourly_dataframe.rename(columns={'temperature_2m': 'temperature'}, inplace=True)\n",
    "\n",
    "\n",
    "\n"
   ]
  },
  {
   "cell_type": "code",
   "execution_count": 348,
   "id": "93a26c34-507b-4dae-b2dc-0e6f52a7120f",
   "metadata": {},
   "outputs": [
    {
     "name": "stdout",
     "output_type": "stream",
     "text": [
      "['_id', '_full_text', 'INCIDENT_NUM', 'DISP_CODE', 'DISPOSITION', 'FINAL_RADIO_CODE', 'FINAL_CALL_TYPE', 'CALL_RECEIVED', 'HUNDREDBLOCKADDR', 'GRID']\n"
     ]
    }
   ],
   "source": [
    "print(df_phx_police.columns.tolist())\n"
   ]
  },
  {
   "cell_type": "code",
   "execution_count": 349,
   "id": "50cd45f6-bb22-4766-8adb-7a3c99b7405f",
   "metadata": {},
   "outputs": [
    {
     "name": "stdout",
     "output_type": "stream",
     "text": [
      "['_id', '_full_text', 'INCIDENT_NUM', 'DISP_CODE', 'DISPOSITION', 'FINAL_RADIO_CODE', 'FINAL_CALL_TYPE', 'CALL_RECEIVED', 'HUNDREDBLOCKADDR', 'GRID']\n"
     ]
    }
   ],
   "source": [
    "df_phx_police.columns = df_phx_police.columns.str.strip()\n",
    "print(df_phx_police.columns.tolist())\n"
   ]
  },
  {
   "cell_type": "code",
   "execution_count": 350,
   "id": "5e6fe000-d54a-40a4-96a5-237c3dbd082f",
   "metadata": {},
   "outputs": [
    {
     "name": "stdout",
     "output_type": "stream",
     "text": [
      "['_id', '_full_text', 'INCIDENT', 'REPORTED', 'CLOSED', 'INCIDENT_ADDRESS', 'NATURE_CODE', 'NATURE_TEXT', 'CATEGORY']\n"
     ]
    }
   ],
   "source": [
    "print(df_phx_fire.columns.tolist())"
   ]
  },
  {
   "cell_type": "code",
   "execution_count": 351,
   "id": "093cf753-0789-4218-bc89-5e38109affb1",
   "metadata": {},
   "outputs": [
    {
     "name": "stdout",
     "output_type": "stream",
     "text": [
      "['_id', '_full_text', 'INCIDENT', 'REPORTED', 'CLOSED', 'INCIDENT_ADDRESS', 'NATURE_CODE', 'NATURE_TEXT', 'CATEGORY']\n"
     ]
    }
   ],
   "source": [
    "df_phx_fire.columns = df_phx_fire.columns.str.strip()\n",
    "print(df_phx_fire.columns.tolist())"
   ]
  },
  {
   "cell_type": "code",
   "execution_count": 352,
   "id": "420d5871-48d5-47c4-a86a-a488d216ac92",
   "metadata": {},
   "outputs": [
    {
     "name": "stdout",
     "output_type": "stream",
     "text": [
      "['INCIDENT_NUM', 'DISP_CODE', 'DISPOSITION', 'FINAL_RADIO_CODE', 'FINAL_CALL_TYPE', 'CALL_RECEIVED', 'HUNDREDBLOCKADDR', 'GRID']\n"
     ]
    }
   ],
   "source": [
    "df_phx_police.drop(columns=['_id'], inplace=True)\n",
    "df_phx_police.drop(columns=['_full_text'], inplace=True)\n",
    "print(df_phx_police.columns.tolist())"
   ]
  },
  {
   "cell_type": "code",
   "execution_count": 353,
   "id": "beba7a21-4278-4241-978d-f05c3d21a3b1",
   "metadata": {},
   "outputs": [
    {
     "name": "stdout",
     "output_type": "stream",
     "text": [
      "['INCIDENT_NUM', 'DISP_CODE', 'DISPOSITION', 'FINAL_RADIO_CODE', 'FINAL_CALL_TYPE', 'CALL_RECEIVED', 'HUNDREDBLOCKADDR', 'GRID']\n"
     ]
    }
   ],
   "source": [
    "df_phx_fire.drop(columns=['_full_text'], inplace=True)\n",
    "print(df_phx_police.columns.tolist())"
   ]
  },
  {
   "cell_type": "code",
   "execution_count": 354,
   "id": "602d29aa-fb9b-416d-a40e-227f361e9982",
   "metadata": {},
   "outputs": [],
   "source": [
    "# Remove the _id column\n",
    "#df_phx_police.drop(columns=['_id'], inplace=True)\n",
    "df_phx_police.rename(columns={\n",
    "    'INCIDENT_NUM': 'incident_num',\n",
    "    'DISP_CODE': 'disp_code',\n",
    "    'DISPOSITION': 'disposition',\n",
    "    'FINAL_RADIO_CODE': 'final_radio_code',\n",
    "    'FINAL_CALL_TYPE': 'final_call_type',\n",
    "    'CALL_RECEIVED': 'call_received',\n",
    "    'HUNDREDBLOCKADDR': 'hundredblockaddr',\n",
    "    'GRID': 'grid'\n",
    "}, inplace=True)\n"
   ]
  },
  {
   "cell_type": "code",
   "execution_count": 355,
   "id": "dda2732e-566d-46e3-91b2-7a137cbd5e4f",
   "metadata": {},
   "outputs": [],
   "source": [
    "# Establish a connection\n",
    "with engine.connect() as connection:\n",
    "    # Begin a transaction\n",
    "    with connection.begin():\n",
    "        # Execute DELETE statements for multiple tables\n",
    "        connection.execute(text(\"DELETE FROM phx_police\"))\n",
    "        connection.execute(text(\"DELETE FROM phx_fire\"))\n",
    "        connection.execute(text(\"DELETE FROM weather\"))"
   ]
  },
  {
   "cell_type": "code",
   "execution_count": 356,
   "id": "09c1412c-3280-4bd9-9eeb-df07843f175c",
   "metadata": {},
   "outputs": [
    {
     "name": "stdout",
     "output_type": "stream",
     "text": [
      "Inspecting critical columns for None values:\n",
      "                  date  temperature  rain  weather_code  cloud_cover  is_day\n",
      "0  2024-01-01 00:00:00    23.371700   0.0           0.0     0.000000     1.0\n",
      "1  2024-01-01 01:00:00    27.871700   0.0           0.0     0.000000     1.0\n",
      "2  2024-01-01 02:00:00    31.381701   0.0           0.0     1.500000     1.0\n",
      "3  2024-01-01 03:00:00    33.901699   0.0           0.0    10.200000     1.0\n",
      "4  2024-01-01 04:00:00    35.611702   0.0           0.0     4.500000     1.0\n",
      "5  2024-01-01 05:00:00    36.961700   0.0           0.0     2.400000     1.0\n",
      "6  2024-01-01 06:00:00    38.221699   0.0           1.0    21.600000     1.0\n",
      "7  2024-01-01 07:00:00    38.221699   0.0           2.0    63.600002     1.0\n",
      "8  2024-01-01 08:00:00    36.421700   0.0           2.0    51.600002     1.0\n",
      "9  2024-01-01 09:00:00    35.251701   0.0           0.0     6.000000     1.0\n",
      "10 2024-01-01 10:00:00    31.561701   0.0           1.0    31.800001     0.0\n",
      "11 2024-01-01 11:00:00    31.111700   0.0           1.0    31.800001     0.0\n",
      "12 2024-01-01 12:00:00    29.671700   0.0           3.0    89.100006     0.0\n",
      "13 2024-01-01 13:00:00    32.191700   0.0           3.0    96.600006     0.0\n",
      "14 2024-01-01 14:00:00    32.281700   0.0           3.0    97.800003     0.0\n",
      "15 2024-01-01 15:00:00    31.831699   0.1          51.0    85.500000     0.0\n",
      "16 2024-01-01 16:00:00    31.381701   0.0           3.0    88.500008     0.0\n",
      "17 2024-01-01 17:00:00    31.291700   0.0           3.0    88.200005     0.0\n",
      "18 2024-01-01 18:00:00    31.741699   0.0           3.0    90.000008     0.0\n",
      "19 2024-01-01 19:00:00    31.561701   0.0           3.0    80.400009     0.0\n",
      "Rows with None values in critical columns:\n",
      "Empty DataFrame\n",
      "Columns: [date, temperature, rain, weather_code, cloud_cover, is_day]\n",
      "Index: []\n"
     ]
    }
   ],
   "source": [
    "# Print the relevant columns to inspect for None values\n",
    "print(\"Inspecting critical columns for None values:\")\n",
    "\n",
    "# Print a sample of the columns to see their content\n",
    "print(hourly_dataframe[['date', 'temperature', 'rain', 'weather_code', 'cloud_cover', 'is_day']].head(20))\n",
    "\n",
    "# Print rows where any critical column has None values\n",
    "none_values = hourly_dataframe[\n",
    "    hourly_dataframe[['temperature', 'rain', 'weather_code', 'cloud_cover']].isnull().any(axis=1)\n",
    "]\n",
    "\n",
    "print(\"Rows with None values in critical columns:\")\n",
    "print(none_values)\n"
   ]
  },
  {
   "cell_type": "code",
   "execution_count": 357,
   "id": "b1418ad7-9414-48ae-9d4e-1532219f33b3",
   "metadata": {},
   "outputs": [
    {
     "data": {
      "text/plain": [
       "864"
      ]
     },
     "execution_count": 357,
     "metadata": {},
     "output_type": "execute_result"
    }
   ],
   "source": [
    "df_phx_police.to_sql('phx_police', con=engine, index=False, if_exists='append')\n",
    "df_phx_fire.to_sql('phx_fire', con=engine, index=False, if_exists='append')\n",
    "hourly_dataframe.to_sql('weather', con=engine, index=False, if_exists='append')"
   ]
  },
  {
   "cell_type": "code",
   "execution_count": 370,
   "id": "f982685f-b048-4d44-9d43-4ff08574b2b4",
   "metadata": {},
   "outputs": [],
   "source": [
    "# Create temporary columns with truncated date\n",
    "df_phx_police['call_received_hour'] = df_phx_police['call_received'].dt.floor('h')\n",
    "hourly_dataframe['date_hour'] = hourly_dataframe['date'].dt.floor('h')\n",
    "\n",
    "# Perform the left join\n",
    "df_merged = pd.merge(df_phx_police, hourly_dataframe, how='left', left_on='call_received_hour', right_on='date_hour')\n",
    "\n",
    "# Select the desired columns and drop temporary columns\n",
    "df_phx_weather_police = df_merged[['incident_num', 'disposition', 'final_call_type', 'call_received', 'temperature', 'rain', 'weather_code', 'cloud_cover']]"
   ]
  }
 ],
 "metadata": {
  "kernelspec": {
   "display_name": "Python 3 (ipykernel)",
   "language": "python",
   "name": "python3"
  },
  "language_info": {
   "codemirror_mode": {
    "name": "ipython",
    "version": 3
   },
   "file_extension": ".py",
   "mimetype": "text/x-python",
   "name": "python",
   "nbconvert_exporter": "python",
   "pygments_lexer": "ipython3",
   "version": "3.12.3"
  }
 },
 "nbformat": 4,
 "nbformat_minor": 5
}
